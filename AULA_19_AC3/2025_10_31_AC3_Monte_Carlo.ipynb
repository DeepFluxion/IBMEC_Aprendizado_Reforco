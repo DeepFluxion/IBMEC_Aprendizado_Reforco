{
 "cells": [
  {
   "cell_type": "markdown",
   "id": "aeb16b05",
   "metadata": {},
   "source": [
    "# Atividade Complementar 3 \n",
    "\n",
    "### 📋Atividade Complementar 3 – Temporal Diference- INSTRUÇÕES GERAIS:\n",
    "1.\tVocê pode executar esta atividade no Google Colab ou executar no seu computador. Execute as células com implementação antes de executar as tarefas.\n",
    "2.\tVedado acesso a celulares e consulta a sites externos como ChatGPT, Claude.ai, Gemini\n",
    "3.\tPermitida a consulta ao material de aula e notebooks do Github\n",
    "### 📊 Formato de Entrega\n",
    "- Use o template word (.docx) para download no SAVA e entregue um pdf no SAVA\n",
    "- Notebook com os scripts desenvolvido\n",
    "- Data de Entrega : 31/10/2025 até 00:00\n",
    "### Para cada questão:\n",
    "1.\tPrint/screenshot do resultado principal (gráfico ou tabela de win rates)\n",
    "2.\tRespostas para cada pergunta procure esclarecer os conceitos empregados e apresentados em aula, como definições e pseudo códigos\n",
    "3.\tObservação adicional (opcional): algo interessante que você notou\n",
    "\n",
    "FONTES DE CONSULTA\n",
    "---\n",
    "### É PERMITIDA A CONSULTA AS SEGUINTES FONTES QUALQUER OUTRA CONSULTA DURANTE A REVISÃO DA AC3 É PROIBIDA.\n",
    "[RESUMO TEÓRICO](https://github.com/DeepFluxion/IBMEC_Aprendizado_Reforco/blob/main/GridWorld_Project/Resumo_Teorico_TD_MC.md)   \n",
    "[Aula_18_Tutorial_Completo_MC_TD_GW](https://github.com/DeepFluxion/IBMEC_Aprendizado_Reforco/blob/main/GridWorld_Project/Aula_18_Tutorial_Completo_MC_TD_GW.ipynb)   \n",
    "[Aula_18_Implementacao_Ambiente_GridWorl](https://github.com/DeepFluxion/IBMEC_Aprendizado_Reforco/blob/main/GridWorld_Project/Aula_18_Implementacao_Ambiente_GridWorld.ipynb)\n",
    "Aula_18_Tutorial_Completo_MC_TD_GW.ipynb)   \n",
    "[GUIA COLAB](https://github.com/DeepFluxion/IBMEC_Aprendizado_Reforco/blob/main/GridWorld_Project/GUIA_COLAB.md)   "
   ]
  },
  {
   "cell_type": "markdown",
   "id": "1bb8aee4",
   "metadata": {},
   "source": [
    "# EXECUTE A CÉLULA ABAIXO CASO ESTEJA NO COLAB\n",
    "---\n",
    "CASO CONTÁRIO PULE"
   ]
  },
  {
   "cell_type": "code",
   "execution_count": 22,
   "id": "8f54b0d9",
   "metadata": {},
   "outputs": [
    {
     "name": "stdout",
     "output_type": "stream",
     "text": [
      "Caso esteja executando local baixe os arquivos do Github e passe para os imports\n"
     ]
    }
   ],
   "source": [
    "# Célula 1: Upload dos arquivos Python\n",
    "try:\n",
    "    from google.colab import files\n",
    "\n",
    "    print(\"📤 Faça upload dos 3 arquivos Python:\")\n",
    "    print(\"   1. environment.py\")\n",
    "    print(\"   2. algorithms.py\")\n",
    "    print(\"   3. visualization.py\")\n",
    "    print()\n",
    "    \n",
    "    uploaded = files.upload()\n",
    "    \n",
    "    print(\"\\n✅ Arquivos carregados com sucesso!\")\n",
    "    print(f\"   Total: {len(uploaded)} arquivo(s)\")\n",
    "except:\n",
    "    print('Caso esteja executando local baixe os arquivos do Github e passe para os imports')"
   ]
  },
  {
   "cell_type": "code",
   "execution_count": 24,
   "id": "31ea899a-b991-4892-b64e-28928bf06e95",
   "metadata": {},
   "outputs": [
    {
     "name": "stdout",
     "output_type": "stream",
     "text": [
      "✓ Módulos importados com sucesso!\n"
     ]
    }
   ],
   "source": [
    "# Imports básicos\n",
    "import numpy as np\n",
    "import matplotlib.pyplot as plt\n",
    "\n",
    "# Configuração para notebooks\n",
    "%matplotlib inline\n",
    "\n",
    "# Importar módulos de RL\n",
    "from environment import (\n",
    "    GridWorld,\n",
    "    create_classic_gridworld,\n",
    "    create_custom_gridworld,\n",
    "    create_cliff_world,\n",
    "    create_cliff_world_2,\n",
    "    print_gridworld_info\n",
    ")\n",
    "\n",
    "from algorithms import (\n",
    "    # Predição\n",
    "    td_zero_prediction,\n",
    "    first_visit_mc_prediction,\n",
    "    # Controle\n",
    "    sarsa,\n",
    "    q_learning,\n",
    "    expected_sarsa,\n",
    "    first_visit_mc_control,\n",
    "    mc_exploring_starts,\n",
    "    # Auxiliares\n",
    "    get_greedy_policy\n",
    ")\n",
    "\n",
    "from visualization import (\n",
    "    visualize_gridworld,\n",
    "    visualize_q_values,\n",
    "    visualize_q_table_detailed,\n",
    "    plot_learning_curves,\n",
    "    plot_value_evolution,\n",
    "    plot_value_heatmap,\n",
    "    plot_q_value_heatmap,\n",
    "    compare_algorithms,\n",
    "    print_q_table\n",
    ")\n",
    "\n",
    "print(\"✓ Módulos importados com sucesso!\")"
   ]
  },
  {
   "cell_type": "markdown",
   "id": "03055839",
   "metadata": {},
   "source": [
    "# Q.1. VALOR 1 PONTO\n",
    "\n",
    "### Crie um GridWorld Customizado com as seguintes características\n",
    "\n",
    "### Lay Out (Veja também Template)\n",
    "\n",
    " Layout:\n",
    " -------\n",
    " ```\n",
    " [ ] [ ] [ ] [ ] [ ] [ ] [ ] [T1]\n",
    " [ ] [ ] [ ] [■] [■] [■] [ ] [  ]\n",
    " [■] [ ] [■] [■] [■] [ ] [ ] [■ ]\n",
    " [ ] [ ] [ ] [■] [ ] [ ] [ ] [  ]\n",
    " [ ] [ ] [ ] [ ] [ ] [ ] [ ] [  ]\n",
    " [S] [C] [C] [C] [C] [C] [C] [T2]\n",
    "```\n",
    "\n",
    "Legenda:\n",
    "* S  : Estado inicial típico (5,0)\n",
    "* ■  : Parede em (1, 3), (1, 4), (1, 5),(2, 0), (2, 2), (2, 3), (2, 4),(2, 7),(3, 3), #(3, 4), (3, 5\n",
    "* T1 : Terminal positivo em (0,3) Recompensa = 750.0\n",
    "* T2 : Terminal positivo em (5,7) Recompensa = 1000.0 \n",
    "* C : Terminal negativo em (5, 1) recompensa = -100.0,  #Precipio\n",
    "* C : Terminal negativo em (5, 2) recompensa = -100.0,  #Precipio\n",
    "* C : Terminal negativo em (5, 3) recompensa = -100.0,  #Precipio\n",
    "* C : Terminal negativo em (5, 4) recompensa = -100.0,  #Precipio\n",
    "* C : Terminal negativo em (5, 5) recompensa = -100.0,  #Precipio\n",
    "* C : Terminal negativo em (5, 6) recompensa = -100.0,  #Precipio\n",
    "\n",
    "Configuração\n",
    "* Tamanho: 6 linhas x 8 colunas\n",
    "* Fator de desconto: γ = 0.95\n",
    "* Ruído: 30% (0.3)\n",
    "* Living reward: -10.00\n",
    "\n",
    "Cole a imagem do ambiente e seus atributos gerados abaixo - (Dica: coloque o curso sobre a figura e clique com o botaõ direito do mouse e copie a imagem e cole no arquivo world)\n",
    "\n",
    "> **DICA** Use a função `create_custom_gridworld()` e `visualize_gridworld()` e `print_gridworld_info()`para gerar as imagens e testos necessários e cole no template\n"
   ]
  },
  {
   "cell_type": "code",
   "execution_count": 13,
   "id": "a69868cc-34ca-431f-ad5d-8b403d59df93",
   "metadata": {},
   "outputs": [],
   "source": [
    "# Criar grid personalizado conforme as expecificações\n",
    "# gw_custom = create_custom_gridworld(\n",
    "#\n",
    "# # Seu Código aqui\n",
    "#\n",
    "# )\n",
    "# \n",
    "# # Visualizar ambiente\n",
    "# visualize_gridworld(gw_custom, title=\"Grid # Personalizado *x6\")"
   ]
  },
  {
   "cell_type": "code",
   "execution_count": 14,
   "id": "5042c94c-4738-48f0-83bb-67afa961101a",
   "metadata": {},
   "outputs": [],
   "source": [
    "# print_gridworld_info(gw_custom)"
   ]
  },
  {
   "cell_type": "markdown",
   "id": "a06d92fa",
   "metadata": {},
   "source": [
    "# Q.2 VALOR 1 PONTO\n",
    "\n",
    "### Treine o este ambiente com os seguintes parâmetros: \n",
    "* Algoritmo: SARSA\n",
    "* Episódios: 5000\n",
    "* Alpha: 0.05\n",
    "* Gamma: 0.9\n",
    "* Episilon: 0.1\n",
    "Use as seguintes funções para exibir os resultados:\n",
    "### Treinamento:\n",
    "```python\n",
    "Q_sarsa, rewards_sarsa = sarsa(gw_custom, **PARAMS, verbose=True)\n",
    "```\n",
    "### Política:\n",
    "```python\n",
    "visualize_gridworld(gw_custom, policy=policy, title=f\"{name} - Política\")\n",
    "```\n",
    "### Valores Q: \n",
    "```python\n",
    "visualize_q_values(Q, gw_custom, title=f\"{name} - Valores Q\")\n",
    "```\n",
    "### Q-values detalhados:  \n",
    "```python\n",
    "visualize_q_table_detailed(Q, gw_custom, title=f\"{name} - Q-Values Detalhados\")\n",
    "```\n",
    "Cole a imagem de cada um dos resultados obtidos abaixo, tome cuidado com o título do gráfico"
   ]
  },
  {
   "cell_type": "code",
   "execution_count": 15,
   "id": "090c6dfe-a185-4258-ac56-53cd9d116fff",
   "metadata": {},
   "outputs": [],
   "source": [
    "# Parâmetros\n",
    "PARAMS = {\n",
    "    'n_episodes': 5000,\n",
    "    'alpha': 0.05,\n",
    "    'gamma': 0.9,\n",
    "    'epsilon': 0.1\n",
    "}"
   ]
  },
  {
   "cell_type": "code",
   "execution_count": 16,
   "id": "5dc4a04f-6454-41a0-b976-e9381ad86aa4",
   "metadata": {},
   "outputs": [
    {
     "name": "stdout",
     "output_type": "stream",
     "text": [
      "→ Treinando SARSA...\n"
     ]
    }
   ],
   "source": [
    "# Treinar o algoritmo SARSA \n",
    "print(\"→ Treinando SARSA...\")\n",
    "### SEU CÓDIGO AQUI"
   ]
  },
  {
   "cell_type": "markdown",
   "id": "022591fa",
   "metadata": {},
   "source": [
    "# Q.3 VALOR 1 PONTO\n",
    "\n",
    "### Treine o este ambiente com os seguintes parâmetros: \n",
    "* Algoritmo: Q - Learning\n",
    "* Episódios: 5000\n",
    "* Alpha: 0.05\n",
    "* Gamma: 0.9\n",
    "* Episilon: 0.1\n",
    "Use as seguintes funções para exibir os resultados:\n",
    "### Treinamento:\n",
    "```python\n",
    "Q_q_learning, rewards_q_learning = q_learning(gw_custom, **PARAMS, verbose=True)\n",
    "```\n",
    "### Política:\n",
    "```python\n",
    "visualize_gridworld(gw_custom, policy=policy, title=f\"{name} - Política\")\n",
    "```\n",
    "### Valores Q: \n",
    "```python\n",
    "visualize_q_values(Q, gw_custom, title=f\"{name} - Valores Q\")\n",
    "```\n",
    "### Q-values detalhados:  \n",
    "```python\n",
    "visualize_q_table_detailed(Q, gw_custom, title=f\"{name} - Q-Values Detalhados\")\n",
    "```\n",
    "Cole a imagem de cada um dos resultados obtidos abaixo, tome cuidado com o título do gráfico"
   ]
  },
  {
   "cell_type": "code",
   "execution_count": 17,
   "id": "3e9b9405",
   "metadata": {},
   "outputs": [
    {
     "name": "stdout",
     "output_type": "stream",
     "text": [
      "→ Treinando Q-Learning...\n"
     ]
    }
   ],
   "source": [
    "# Treinar o algoritmo Q-Learning \n",
    "print(\"→ Treinando Q-Learning...\")\n",
    "### SEU CÓDIGO AQUI"
   ]
  },
  {
   "cell_type": "markdown",
   "id": "1a028e6f",
   "metadata": {},
   "source": [
    "# Q.4 VALOR 1 PONTO\n",
    "\n",
    "### Treine o este ambiente com os seguintes parâmetros: \n",
    "* Algoritmo: Expected SARSA\n",
    "* Episódios: 5000\n",
    "* Alpha: 0.05\n",
    "* Gamma: 0.9\n",
    "* Episilon: 0.1\n",
    "Use as seguintes funções para exibir os resultados:\n",
    "### Treinamento:\n",
    "```python\n",
    "Q_expected, rewards_expected = expected_sarsa(gw_custom, **PARAMS, verbose=True)\n",
    "```\n",
    "### Política:\n",
    "```python\n",
    "visualize_gridworld(gw_custom, policy=policy, title=f\"{name} - Política\")\n",
    "```\n",
    "### Valores Q: \n",
    "```python\n",
    "visualize_q_values(Q, gw_custom, title=f\"{name} - Valores Q\")\n",
    "```\n",
    "### Q-values detalhados:  \n",
    "```python\n",
    "visualize_q_table_detailed(Q, gw_custom, title=f\"{name} - Q-Values Detalhados\")\n",
    "```\n",
    "Cole a imagem de cada um dos resultados obtidos abaixo, tome cuidado com o título do gráfico"
   ]
  },
  {
   "cell_type": "code",
   "execution_count": 18,
   "id": "de8d87d3",
   "metadata": {},
   "outputs": [
    {
     "name": "stdout",
     "output_type": "stream",
     "text": [
      "→ Treinando Expected SARSA...\n"
     ]
    }
   ],
   "source": [
    "# Treinar o algoritmo Expected SARSA \n",
    "print(\"→ Treinando Expected SARSA...\")\n",
    "### SEU CÓDIGO AQUI"
   ]
  },
  {
   "cell_type": "markdown",
   "id": "e3ef2e0e",
   "metadata": {},
   "source": [
    "# Q.5 VALOR TOTAL 3 PONTOS\n",
    "\n",
    "### Compare os algoritmos treinados SARSA, Q-Learning e Expected SARSA\n",
    "\n",
    "### Q.5 ITEM A VALOR DO ITEM 0.5 PONTOS\n",
    "Use as seguintes funções para exibir os resultados (retire os comentários antes):\n",
    "\n",
    "```python\n",
    "# Visualizar curvas de aprendizado\n",
    "plot_learning_curves({\n",
    "    'SARSA': rewards_sarsa,\n",
    "    'Q-Learning': rewards_qlearning,\n",
    "    'Expected SARSA': rewards_expected\n",
    "}, window=500, title=\"Comparação de Algoritmos TD\")\n",
    "\n",
    "# Comparar valores\n",
    "compare_algorithms({\n",
    "    'SARSA': Q_sarsa,\n",
    "    'Q-Learning': Q_qlearning,\n",
    "    'Expected SARSA': Q_expected\n",
    "}, gw_custom)\n",
    "\n",
    "# Visualizar políticas aprendidas\n",
    "for name, Q in [('SARSA', Q_sarsa),\n",
    "                ('Q-Learning', Q_qlearning),\n",
    "                ('Expected SARSA', Q_expected)]:\n",
    "\n",
    "    policy = get_greedy_policy(Q, gw_custom)\n",
    "\n",
    "    print(f\"\\n{'='*60}\")\n",
    "    print(f\"{name}\")\n",
    "    print('='*60)\n",
    "\n",
    "    # Política\n",
    "    visualize_gridworld(gw_custom, policy=policy, title=f\"{name} - Política\")\n",
    "\n",
    "    # Valores Q\n",
    "    visualize_q_values(Q, gw_custom, title=f\"{name} - Valores Q\")\n",
    "\n",
    "    # Q-values detalhados\n",
    "    visualize_q_table_detailed(Q, gw_custom, title=f\"{name} - Q-Values Detalhados\")\n",
    "```"
   ]
  },
  {
   "cell_type": "code",
   "execution_count": 19,
   "id": "2f13901c-a592-445a-a67b-6c585579b5e0",
   "metadata": {},
   "outputs": [],
   "source": [
    "### SEU CODIGO AQUI"
   ]
  },
  {
   "cell_type": "code",
   "execution_count": 20,
   "id": "96897c32",
   "metadata": {},
   "outputs": [],
   "source": [
    "### SEU CODIGO AQUI"
   ]
  },
  {
   "cell_type": "code",
   "execution_count": 21,
   "id": "0f5975e0",
   "metadata": {},
   "outputs": [],
   "source": [
    "### SEU CODIGO AQUI"
   ]
  },
  {
   "cell_type": "markdown",
   "id": "9bce2e10",
   "metadata": {},
   "source": [
    "# Q.5 ITEM B. VALOR 2.5 PONTOS\n",
    "\n",
    "### RESPONDA À SEGUINTE QUESTÃO\n",
    "\n",
    "### Os algoritmos TD são implementados com diferente variações no cálculo ds Q Values, essas variações resultam num comportamento esperado mais convervador para o algoritmo SARSA, um comportamento mais agressivo ou aproveitador para o Q-Learning e um comportamento ponderado para o Expected SARSA.\n",
    "\n",
    "### Usando as fórmulas do ValoR Estado Ação de cada algoritmo explique o que causa esse comportamento, mostre se os resultados obtidos no experimento anterior evidencia ou não esses comportamentos.\n",
    "\n",
    "[VERIFIQUE AS FÓRMULAS DE ATUAIZAÇÃO DE CADA ALGORITMO NESTE LINK](https://github.com/DeepFluxion/IBMEC_Aprendizado_Reforco/blob/main/GridWorld_Project/Resumo_Teorico_TD_MC.md)"
   ]
  },
  {
   "cell_type": "markdown",
   "id": "1c6f70d7",
   "metadata": {},
   "source": [
    "# Q.6 ITEM A VALOR 0.5 PONTOS\n",
    "\n",
    "### Elabore uma análise comparativa do comportamento do algoritmo SARSA para diferentes valores de α (alpha) (0.01, 0.1 e 0.5)\n",
    "\n",
    "Use o código abaixo\n",
    "```python\n",
    "# Testar diferentes valores de alpha\n",
    "alphas = [0.01,  \n",
    "          0.1,  \n",
    "          0.5]\n",
    "results_alpha = {}\n",
    "\n",
    "print(\"ANÁLISE DE SENSIBILIDADE - PARÂMETRO ALPHA\")\n",
    "print(\"=\"*60)\n",
    "\n",
    "for alpha in alphas:\n",
    "    print(f\"\\n→ Treinando com α = {alpha}...\")\n",
    "    Q, rewards = sarsa(\n",
    "        gw_custom,\n",
    "        n_episodes=5000,\n",
    "        alpha=alpha,\n",
    "        gamma=0.95,\n",
    "        epsilon=0.1\n",
    "    )\n",
    "\n",
    "    results_alpha[f'α={alpha}'] = rewards\n",
    "\n",
    "    # Calcular valor médio\n",
    "    values = []\n",
    "    for state in gw_custom.states:\n",
    "        if not gw_custom.is_terminal(state) and state not in gw_custom.walls:\n",
    "            state_idx = state[0] * gw_custom.cols + state[1]\n",
    "            values.append(np.max(Q[state_idx]))\n",
    "\n",
    "    avg_value = np.mean(values)\n",
    "    print(f\"   Valor médio final: {avg_value:.4f}\")\n",
    "\n",
    "# Plotar comparação\n",
    "plot_learning_curves(results_alpha, window=100,\n",
    "                    title=\"Sensibilidade ao α (Taxa de Aprendizado)\")\n",
    "\n",
    "print(\"\\n✓ Análise concluída!\")\n",
    "```"
   ]
  },
  {
   "cell_type": "markdown",
   "id": "428645fe",
   "metadata": {},
   "source": [
    "# Q.6 ITEM B VALOR 1.5 PONTOS\n",
    "\n",
    "### Explique com detalhes o que é o α (alpha) nos algoritmos de Diferença Temporal, esclarecendo qual seu efeito nas atualização de valor, demonstrando sua argumentação com os resultados obtidos no experimento do item anterior (Q.6 ITEM A)."
   ]
  },
  {
   "cell_type": "markdown",
   "id": "f28914b6",
   "metadata": {},
   "source": [
    "## Q.7 VALOR 1.5 PONTOS\n",
    "\n",
    "### Ao analisar as políticas resultantes dos experimentos algumas ações podem ser inconsistentes. Avalie os resultados obtidos nas questões Q.2 até Q.4 e verifique ações que sugerem inconsistência e apresente aqui suas argumentações em caso positivo ou negativo, mostrando nos gráficos obtidos.\n",
    "\n",
    "### Imagine que nestes experimentos você verificou que uma ação não é consistente para uma politica ótima e precisa validar isso usando as ferramentas aprendidas, elabore um roteiro de como você faria está analise, não precisa escrever os script apenas as ferramentas algoritmos implementados, gráficos, análises etc..\n"
   ]
  },
  {
   "cell_type": "code",
   "execution_count": null,
   "id": "131651ae",
   "metadata": {},
   "outputs": [],
   "source": []
  }
 ],
 "metadata": {
  "kernelspec": {
   "display_name": "Python 3 (ipykernel)",
   "language": "python",
   "name": "python3"
  },
  "language_info": {
   "codemirror_mode": {
    "name": "ipython",
    "version": 3
   },
   "file_extension": ".py",
   "mimetype": "text/x-python",
   "name": "python",
   "nbconvert_exporter": "python",
   "pygments_lexer": "ipython3",
   "version": "3.10.13"
  },
  "nbTranslate": {
   "displayLangs": [
    "*"
   ],
   "hotkey": "alt-t",
   "langInMainMenu": true,
   "sourceLang": "en",
   "targetLang": "fr",
   "useGoogleTranslate": true
  }
 },
 "nbformat": 4,
 "nbformat_minor": 5
}
